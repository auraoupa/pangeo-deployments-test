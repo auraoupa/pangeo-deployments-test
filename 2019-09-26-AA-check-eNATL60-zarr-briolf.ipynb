{
 "cells": [
  {
   "cell_type": "code",
   "execution_count": 1,
   "metadata": {},
   "outputs": [
    {
     "name": "stderr",
     "output_type": "stream",
     "text": [
      "/home/alberta/anaconda2/envs/pangeo-cloud/lib/python3.6/site-packages/dask/config.py:168: YAMLLoadWarning: calling yaml.load() without Loader=... is deprecated, as the default Loader is unsafe. Please read https://msg.pyyaml.org/load for full details.\n",
      "  data = yaml.load(f.read()) or {}\n"
     ]
    }
   ],
   "source": [
    "import dask\n",
    "import dask.threaded\n",
    "import dask.multiprocessing\n",
    "from dask.distributed import Client\n",
    "\n",
    "c = Client()\n"
   ]
  },
  {
   "cell_type": "code",
   "execution_count": 2,
   "metadata": {},
   "outputs": [
    {
     "data": {
      "text/html": [
       "<table style=\"border: 2px solid white;\">\n",
       "<tr>\n",
       "<td style=\"vertical-align: top; border: 0px solid white\">\n",
       "<h3>Client</h3>\n",
       "<ul>\n",
       "  <li><b>Scheduler: </b>tcp://127.0.0.1:37325\n",
       "  <li><b>Dashboard: </b><a href='http://127.0.0.1:8787/status' target='_blank'>http://127.0.0.1:8787/status</a>\n",
       "</ul>\n",
       "</td>\n",
       "<td style=\"vertical-align: top; border: 0px solid white\">\n",
       "<h3>Cluster</h3>\n",
       "<ul>\n",
       "  <li><b>Workers: </b>4</li>\n",
       "  <li><b>Cores: </b>8</li>\n",
       "  <li><b>Memory: </b>33.66 GB</li>\n",
       "</ul>\n",
       "</td>\n",
       "</tr>\n",
       "</table>"
      ],
      "text/plain": [
       "<Client: scheduler='tcp://127.0.0.1:37325' processes=4 cores=8>"
      ]
     },
     "execution_count": 2,
     "metadata": {},
     "output_type": "execute_result"
    }
   ],
   "source": [
    "c"
   ]
  },
  {
   "cell_type": "code",
   "execution_count": 3,
   "metadata": {},
   "outputs": [],
   "source": [
    "import sys, glob\n",
    "import numpy as np\n",
    "import xarray as xr\n",
    "import xscale.spectral.fft as xfft\n",
    "import xscale \n",
    "import Wavenum_freq_spec_func as wfs\n",
    "import time\n",
    "import zarr\n"
   ]
  },
  {
   "cell_type": "code",
   "execution_count": 4,
   "metadata": {},
   "outputs": [],
   "source": [
    "ds=xr.open_zarr('/home/alberta/hal/briolf/NATL60')\n"
   ]
  },
  {
   "cell_type": "code",
   "execution_count": 5,
   "metadata": {},
   "outputs": [
    {
     "data": {
      "text/plain": [
       "<xarray.Dataset>\n",
       "Dimensions:               (axis_nbounds: 2, time_counter: 11688, x: 8354, y: 4729)\n",
       "Coordinates:\n",
       "    time_centered         (time_counter) datetime64[ns] dask.array<shape=(11688,), chunksize=(240,)>\n",
       "  * time_counter          (time_counter) datetime64[ns] 2010-01-19T00:30:00 ... 2009-09-17T23:30:00\n",
       "Dimensions without coordinates: axis_nbounds, x, y\n",
       "Data variables:\n",
       "    nav_lat               (y, x) float32 dask.array<shape=(4729, 8354), chunksize=(240, 480)>\n",
       "    nav_lon               (y, x) float32 dask.array<shape=(4729, 8354), chunksize=(240, 480)>\n",
       "    sossheig              (time_counter, y, x) float32 dask.array<shape=(11688, 4729, 8354), chunksize=(240, 240, 480)>\n",
       "    time_centered_bounds  (time_counter, axis_nbounds) datetime64[ns] dask.array<shape=(11688, 2), chunksize=(240, 2)>\n",
       "    time_counter_bounds   (time_counter, axis_nbounds) datetime64[ns] dask.array<shape=(11688, 2), chunksize=(240, 2)>\n",
       "Attributes:\n",
       "    Conventions:  CF-1.6\n",
       "    TimeStamp:    24/03/2019 14:43:29 +0100\n",
       "    description:  ocean T grid variables\n",
       "    file_name:    eNATL60-BLBT02X_1h_20100101_20100125_gridT-2D_20100119-2010...\n",
       "    ibegin:       0\n",
       "    jbegin:       0\n",
       "    name:         /scratch/tmp/5251284/eNATL60-BLBT02X_1h_20100101_20100125_g...\n",
       "    ni:           8354\n",
       "    nj:           10\n",
       "    timeStamp:    2019-Mar-24 06:31:35 GMT\n",
       "    title:        ocean T grid variables\n",
       "    uuid:         80877374-74d2-468e-9fc6-d8cae8009094"
      ]
     },
     "execution_count": 5,
     "metadata": {},
     "output_type": "execute_result"
    }
   ],
   "source": [
    "ds"
   ]
  },
  {
   "cell_type": "code",
   "execution_count": null,
   "metadata": {},
   "outputs": [],
   "source": []
  }
 ],
 "metadata": {
  "kernelspec": {
   "display_name": "pangeo_cloud",
   "language": "python",
   "name": "pangeo-cloud"
  },
  "language_info": {
   "codemirror_mode": {
    "name": "ipython",
    "version": 3
   },
   "file_extension": ".py",
   "mimetype": "text/x-python",
   "name": "python",
   "nbconvert_exporter": "python",
   "pygments_lexer": "ipython3",
   "version": "3.6.7"
  }
 },
 "nbformat": 4,
 "nbformat_minor": 2
}
