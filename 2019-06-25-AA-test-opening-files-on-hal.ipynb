{
 "cells": [
  {
   "cell_type": "code",
   "execution_count": 1,
   "metadata": {},
   "outputs": [
    {
     "data": {
      "application/vnd.jupyter.widget-view+json": {
       "model_id": "8478e4bf8ef94a498fb9db329be26b86",
       "version_major": 2,
       "version_minor": 0
      },
      "text/plain": [
       "VBox(children=(HTML(value='<h2>PBSCluster</h2>'), HBox(children=(HTML(value='\\n<div>\\n  <style scoped>\\n    .d…"
      ]
     },
     "metadata": {},
     "output_type": "display_data"
    }
   ],
   "source": [
    "from dask_jobqueue import PBSCluster\n",
    "from dask.distributed import Client\n",
    "import dask.dataframe as dd\n",
    "\n",
    "cluster = PBSCluster(cores=4, memory=\"20GB\", project='PangeoTestsOpening', walltime='04:00:00')\n",
    "cluster.scale(12)\n",
    "cluster"
   ]
  },
  {
   "cell_type": "code",
   "execution_count": 2,
   "metadata": {},
   "outputs": [
    {
     "data": {
      "text/html": [
       "<table style=\"border: 2px solid white;\">\n",
       "<tr>\n",
       "<td style=\"vertical-align: top; border: 0px solid white\">\n",
       "<h3>Client</h3>\n",
       "<ul>\n",
       "  <li><b>Scheduler: </b>tcp://10.120.43.57:48875\n",
       "  <li><b>Dashboard: </b><a href='http://10.120.43.57:8787/status' target='_blank'>http://10.120.43.57:8787/status</a>\n",
       "</ul>\n",
       "</td>\n",
       "<td style=\"vertical-align: top; border: 0px solid white\">\n",
       "<h3>Cluster</h3>\n",
       "<ul>\n",
       "  <li><b>Workers: </b>0</li>\n",
       "  <li><b>Cores: </b>0</li>\n",
       "  <li><b>Memory: </b>0 B</li>\n",
       "</ul>\n",
       "</td>\n",
       "</tr>\n",
       "</table>"
      ],
      "text/plain": [
       "<Client: scheduler='tcp://10.120.43.57:48875' processes=0 cores=0>"
      ]
     },
     "execution_count": 2,
     "metadata": {},
     "output_type": "execute_result"
    }
   ],
   "source": [
    "client = Client(cluster)\n",
    "client"
   ]
  },
  {
   "cell_type": "code",
   "execution_count": 3,
   "metadata": {},
   "outputs": [],
   "source": [
    "import sys, glob\n",
    "import numpy as np\n",
    "import xarray as xr\n",
    "import time"
   ]
  },
  {
   "cell_type": "code",
   "execution_count": 4,
   "metadata": {},
   "outputs": [
    {
     "name": "stdout",
     "output_type": "stream",
     "text": [
      "CPU times: user 9.64 s, sys: 594 ms, total: 10.2 s\n",
      "Wall time: 10.2 s\n"
     ]
    }
   ],
   "source": [
    "%%time\n",
    "dsu=xr.open_zarr('/work/ALT/odatis/eNATL60/zarr/eNATL60-BLBT02-SSU-1h')\n",
    "dsv=xr.open_zarr('/work/ALT/odatis/eNATL60/zarr/eNATL60-BLBT02-SSV-1h')\n"
   ]
  },
  {
   "cell_type": "code",
   "execution_count": null,
   "metadata": {},
   "outputs": [],
   "source": [
    "%%time\n",
    "dsu1=xr.open_mfdataset('/work/ALT/odatis/eNATL60/BLBT02/gridU-2D/eNATL60-BLBT02_1h_*201001*_gridU-2D.nc',parallel=True)\n",
    "dsv1=xr.open_mfdataset('/work/ALT/odatis/eNATL60/BLBT02/gridV-2D/eNATL60-BLBT02_1h_*201001*_gridV-2D.nc',parallel=True)\n",
    "\n",
    "dsu2=xr.open_mfdataset('/work/ALT/odatis/eNATL60/BLBT02/gridU-2D/eNATL60-BLBT02_1h_*201002*_gridU-2D.nc',parallel=True)\n",
    "dsv2=xr.open_mfdataset('/work/ALT/odatis/eNATL60/BLBT02/gridV-2D/eNATL60-BLBT02_1h_*201002*_gridV-2D.nc',parallel=True)\n",
    "\n",
    "dsu3=xr.open_mfdataset('/work/ALT/odatis/eNATL60/BLBT02/gridU-2D/eNATL60-BLBT02_1h_*201003*_gridU-2D.nc',parallel=True)\n",
    "dsv3=xr.open_mfdataset('/work/ALT/odatis/eNATL60/BLBT02/gridV-2D/eNATL60-BLBT02_1h_*201003*_gridV-2D.nc',parallel=True)\n",
    "\n",
    "dsu4=xr.open_mfdataset('/work/ALT/odatis/eNATL60/BLBT02/gridU-2D/eNATL60-BLBT02_1h_*201004*_gridU-2D.nc',parallel=True)\n",
    "dsv4=xr.open_mfdataset('/work/ALT/odatis/eNATL60/BLBT02/gridV-2D/eNATL60-BLBT02_1h_*201004*_gridV-2D.nc',parallel=True)\n",
    "\n",
    "dsu5=xr.open_mfdataset('/work/ALT/odatis/eNATL60/BLBT02/gridU-2D/eNATL60-BLBT02_1h_*201005*_gridU-2D.nc',parallel=True)\n",
    "dsv5=xr.open_mfdataset('/work/ALT/odatis/eNATL60/BLBT02/gridV-2D/eNATL60-BLBT02_1h_*201005*_gridV-2D.nc',parallel=True)\n",
    "\n",
    "dsu6=xr.open_mfdataset('/work/ALT/odatis/eNATL60/BLBT02/gridU-2D/eNATL60-BLBT02_1h_*201006*_gridU-2D.nc',parallel=True)\n",
    "dsv6=xr.open_mfdataset('/work/ALT/odatis/eNATL60/BLBT02/gridV-2D/eNATL60-BLBT02_1h_*201006*_gridV-2D.nc',parallel=True)\n",
    "\n",
    "dsu7=xr.open_mfdataset('/work/ALT/odatis/eNATL60/BLBT02/gridU-2D/eNATL60-BLBT02_1h_*200907*_gridU-2D.nc',parallel=True)\n",
    "dsv7=xr.open_mfdataset('/work/ALT/odatis/eNATL60/BLBT02/gridV-2D/eNATL60-BLBT02_1h_*200907*_gridV-2D.nc',parallel=True)\n",
    "\n",
    "dsu8=xr.open_mfdataset('/work/ALT/odatis/eNATL60/BLBT02/gridU-2D/eNATL60-BLBT02_1h_*200908*_gridU-2D.nc',parallel=True)\n",
    "dsv8=xr.open_mfdataset('/work/ALT/odatis/eNATL60/BLBT02/gridV-2D/eNATL60-BLBT02_1h_*200908*_gridV-2D.nc',parallel=True)\n",
    "\n",
    "dsu9=xr.open_mfdataset('/work/ALT/odatis/eNATL60/BLBT02/gridU-2D/eNATL60-BLBT02_1h_*200909*_gridU-2D.nc',parallel=True)\n",
    "dsv9=xr.open_mfdataset('/work/ALT/odatis/eNATL60/BLBT02/gridV-2D/eNATL60-BLBT02_1h_*200909*_gridV-2D.nc',parallel=True)\n",
    "\n",
    "dsu10=xr.open_mfdataset('/work/ALT/odatis/eNATL60/BLBT02/gridU-2D/eNATL60-BLBT02_1h_*200910*_gridU-2D.nc',parallel=True)\n",
    "dsv10=xr.open_mfdataset('/work/ALT/odatis/eNATL60/BLBT02/gridV-2D/eNATL60-BLBT02_1h_*200910*_gridV-2D.nc',parallel=True)\n",
    "\n",
    "dsu11=xr.open_mfdataset('/work/ALT/odatis/eNATL60/BLBT02/gridU-2D/eNATL60-BLBT02_1h_*200911*_gridU-2D.nc',parallel=True)\n",
    "dsv11=xr.open_mfdataset('/work/ALT/odatis/eNATL60/BLBT02/gridV-2D/eNATL60-BLBT02_1h_*200911*_gridV-2D.nc',parallel=True)\n",
    "\n",
    "dsu12=xr.open_mfdataset('/work/ALT/odatis/eNATL60/BLBT02/gridU-2D/eNATL60-BLBT02_1h_*200912*_gridU-2D.nc',parallel=True)\n",
    "dsv12=xr.open_mfdataset('/work/ALT/odatis/eNATL60/BLBT02/gridV-2D/eNATL60-BLBT02_1h_*200912*_gridV-2D.nc',parallel=True)\n"
   ]
  },
  {
   "cell_type": "code",
   "execution_count": null,
   "metadata": {},
   "outputs": [],
   "source": []
  }
 ],
 "metadata": {
  "kernelspec": {
   "display_name": "Pangeo 2019-02",
   "language": "python",
   "name": "pangeo_201902"
  },
  "language_info": {
   "codemirror_mode": {
    "name": "ipython",
    "version": 3
   },
   "file_extension": ".py",
   "mimetype": "text/x-python",
   "name": "python",
   "nbconvert_exporter": "python",
   "pygments_lexer": "ipython3",
   "version": "3.7.1"
  }
 },
 "nbformat": 4,
 "nbformat_minor": 2
}
