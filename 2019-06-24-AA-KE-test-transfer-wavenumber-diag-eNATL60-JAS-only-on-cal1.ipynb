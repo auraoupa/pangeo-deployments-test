{
 "cells": [
  {
   "cell_type": "code",
   "execution_count": 1,
   "metadata": {},
   "outputs": [],
   "source": [
    "import xarray as xr\n",
    "import dask\n",
    "import dask.threaded\n",
    "import dask.multiprocessing\n",
    "from dask.distributed import Client\n",
    "import numpy as np                                                                                        \n",
    "import zarr\n",
    "\n",
    "c = Client()\n",
    "\n",
    "import sys, glob\n",
    "import numpy as np\n",
    "import xarray as xr\n",
    "import xscale.spectral.fft as xfft\n",
    "import xscale \n",
    "import Wavenum_freq_spec_func as wfs\n",
    "import time\n",
    "\n"
   ]
  },
  {
   "cell_type": "code",
   "execution_count": null,
   "metadata": {},
   "outputs": [],
   "source": [
    "dsu=xr.open_zarr('/mnt/meom/workdir/albert/eNATL60/zarr/eNATL60-BLBT02-SSU-1h')\n"
   ]
  },
  {
   "cell_type": "code",
   "execution_count": 6,
   "metadata": {},
   "outputs": [
    {
     "name": "stdout",
     "output_type": "stream",
     "text": [
      "CPU times: user 4.68 s, sys: 636 ms, total: 5.32 s\n",
      "Wall time: 16.1 s\n"
     ]
    }
   ],
   "source": [
    "\n",
    "lat=dsu['nav_lat']\n",
    "lon=dsu['nav_lon']\n",
    " \n",
    "latmin = 40.0; latmax = 45.0;\n",
    "lonmin = -40.0; lonmax = -35.0;\n",
    "\n",
    "domain = (lonmin<lon) * (lon<lonmax) * (latmin<lat) * (lat<latmax)\n",
    "where = np.where(domain)\n",
    "\n",
    "#get indice\n",
    "jmin = np.min(where[0][:])\n",
    "jmax = np.max(where[0][:])\n",
    "imin = np.min(where[1][:])\n",
    "imax = np.max(where[1][:])\n",
    "\n",
    "latbox=lat[jmin:jmax,imin:imax]\n",
    "lonbox=lon[jmin:jmax,imin:imax]\n"
   ]
  },
  {
   "cell_type": "code",
   "execution_count": null,
   "metadata": {},
   "outputs": [],
   "source": [
    "u_JAS_box=dsu.sozocrtx[6552:,jmin:jmax,imin:imax].chunk({'time_counter':100,'x':120,'y':120})\n"
   ]
  },
  {
   "cell_type": "code",
   "execution_count": null,
   "metadata": {},
   "outputs": [],
   "source": [
    "check_NaN = (1*np.isnan(u_JAS_box.values)).sum()\n",
    "print(check_NaN)"
   ]
  }
 ],
 "metadata": {
  "kernelspec": {
   "display_name": "pangeo_cloud",
   "language": "python",
   "name": "pangeo-cloud"
  },
  "language_info": {
   "codemirror_mode": {
    "name": "ipython",
    "version": 3
   },
   "file_extension": ".py",
   "mimetype": "text/x-python",
   "name": "python",
   "nbconvert_exporter": "python",
   "pygments_lexer": "ipython3",
   "version": "3.6.7"
  }
 },
 "nbformat": 4,
 "nbformat_minor": 2
}
