{
 "cells": [
  {
   "cell_type": "code",
   "execution_count": 1,
   "metadata": {},
   "outputs": [
    {
     "name": "stderr",
     "output_type": "stream",
     "text": [
      "/home/alberta/anaconda2/envs/pangeo-cloud/lib/python3.6/site-packages/dask/config.py:168: YAMLLoadWarning: calling yaml.load() without Loader=... is deprecated, as the default Loader is unsafe. Please read https://msg.pyyaml.org/load for full details.\n",
      "  data = yaml.load(f.read()) or {}\n",
      "/home/alberta/anaconda2/envs/pangeo-cloud/lib/python3.6/site-packages/distributed/bokeh/core.py:74: UserWarning: \n",
      "Port 8787 is already in use. \n",
      "Perhaps you already have a cluster running?\n",
      "Hosting the diagnostics dashboard on a random port instead.\n",
      "  warnings.warn(\"\\n\" + msg)\n"
     ]
    }
   ],
   "source": [
    "import dask\n",
    "import dask.threaded\n",
    "import dask.multiprocessing\n",
    "from dask.distributed import Client\n",
    "\n",
    "c = Client()\n"
   ]
  },
  {
   "cell_type": "code",
   "execution_count": 2,
   "metadata": {},
   "outputs": [
    {
     "data": {
      "text/html": [
       "<table style=\"border: 2px solid white;\">\n",
       "<tr>\n",
       "<td style=\"vertical-align: top; border: 0px solid white\">\n",
       "<h3>Client</h3>\n",
       "<ul>\n",
       "  <li><b>Scheduler: </b>tcp://127.0.0.1:38701\n",
       "  <li><b>Dashboard: </b><a href='http://127.0.0.1:43067/status' target='_blank'>http://127.0.0.1:43067/status</a>\n",
       "</ul>\n",
       "</td>\n",
       "<td style=\"vertical-align: top; border: 0px solid white\">\n",
       "<h3>Cluster</h3>\n",
       "<ul>\n",
       "  <li><b>Workers: </b>4</li>\n",
       "  <li><b>Cores: </b>8</li>\n",
       "  <li><b>Memory: </b>33.66 GB</li>\n",
       "</ul>\n",
       "</td>\n",
       "</tr>\n",
       "</table>"
      ],
      "text/plain": [
       "<Client: scheduler='tcp://127.0.0.1:38701' processes=4 cores=8>"
      ]
     },
     "execution_count": 2,
     "metadata": {},
     "output_type": "execute_result"
    }
   ],
   "source": [
    "c"
   ]
  },
  {
   "cell_type": "code",
   "execution_count": 3,
   "metadata": {},
   "outputs": [],
   "source": [
    "import sys, glob\n",
    "import numpy as np\n",
    "import xarray as xr\n",
    "import xscale.spectral.fft as xfft\n",
    "import xscale \n",
    "import Wavenum_freq_spec_func as wfs\n",
    "import time\n",
    "import zarr\n"
   ]
  },
  {
   "cell_type": "code",
   "execution_count": 4,
   "metadata": {},
   "outputs": [],
   "source": [
    "dsu=xr.open_zarr('/mnt/alberta/equipes/IGE/meom/workdir/albert/eNATL60/zarr/eNATL60-BLB002-SSU-1h')\n"
   ]
  },
  {
   "cell_type": "code",
   "execution_count": 5,
   "metadata": {},
   "outputs": [
    {
     "data": {
      "text/plain": [
       "<xarray.Dataset>\n",
       "Dimensions:              (axis_nbounds: 2, time_counter: 8760, x: 8354, y: 4729)\n",
       "Coordinates:\n",
       "    nav_lat              (y, x) float32 dask.array<shape=(4729, 8354), chunksize=(296, 1045)>\n",
       "    nav_lon              (y, x) float32 dask.array<shape=(4729, 8354), chunksize=(296, 1045)>\n",
       "    time_centered        (time_counter) datetime64[ns] dask.array<shape=(8760,), chunksize=(744,)>\n",
       "  * time_counter         (time_counter) datetime64[ns] 2009-07-01T00:30:00 ... 2009-07-30T23:30:00\n",
       "Dimensions without coordinates: axis_nbounds, x, y\n",
       "Data variables:\n",
       "    sozocrtx             (time_counter, y, x) float32 dask.array<shape=(8760, 4729, 8354), chunksize=(24, 120, 120)>\n",
       "    time_counter_bounds  (time_counter, axis_nbounds) datetime64[ns] dask.array<shape=(8760, 2), chunksize=(744, 2)>\n",
       "Attributes:\n",
       "    Conventions:  CF-1.6\n",
       "    NCO:          4.4.6\n",
       "    TimeStamp:    07/01/2019 17:04:54 +0100\n",
       "    description:  ocean U grid variables\n",
       "    file_name:    eNATL60-BLB002_1h_20090630_20090704_gridU-2D_20090701-20090...\n",
       "    history:      Wed Jul 17 14:15:45 2019: ncks -O -F -v sozocrtx /store/CT1...\n",
       "    ibegin:       0\n",
       "    jbegin:       0\n",
       "    name:         /scratch/tmp/3735876/eNATL60-BLB002_1h_20090630_20090704_gr...\n",
       "    ni:           8354\n",
       "    nj:           9\n",
       "    timeStamp:    2018-Dec-30 14:12:24 GMT\n",
       "    title:        ocean U grid variables\n",
       "    uuid:         0a593c68-54ee-42d9-acc0-a60212ed838b"
      ]
     },
     "execution_count": 5,
     "metadata": {},
     "output_type": "execute_result"
    }
   ],
   "source": [
    "dsu"
   ]
  },
  {
   "cell_type": "code",
   "execution_count": 6,
   "metadata": {},
   "outputs": [
    {
     "name": "stdout",
     "output_type": "stream",
     "text": [
      "CPU times: user 3.25 s, sys: 120 ms, total: 3.37 s\n",
      "Wall time: 6.81 s\n"
     ]
    }
   ],
   "source": [
    "%%time\n",
    "lat=dsu['nav_lat']\n",
    "lon=dsu['nav_lon']\n",
    " \n",
    "latmin = 40.0; latmax = 45.0;\n",
    "lonmin = -40.0; lonmax = -35.0;\n",
    "\n",
    "domain = (lonmin<lon) * (lon<lonmax) * (latmin<lat) * (lat<latmax)\n",
    "where = np.where(domain)\n",
    "\n",
    "#get indice\n",
    "jmin = np.min(where[0][:])\n",
    "jmax = np.max(where[0][:])\n",
    "imin = np.min(where[1][:])\n",
    "imax = np.max(where[1][:])\n",
    "\n",
    "latbox=lat[jmin:jmax,imin:imax]\n",
    "lonbox=lon[jmin:jmax,imin:imax]\n"
   ]
  },
  {
   "cell_type": "code",
   "execution_count": 8,
   "metadata": {},
   "outputs": [
    {
     "name": "stdout",
     "output_type": "stream",
     "text": [
      "month nb 1\n",
      "index from 0 to 720\n",
      "0\n",
      "month nb 2\n",
      "index from 720 to 1440\n",
      "0\n",
      "month nb 3\n",
      "index from 1440 to 2160\n",
      "0\n",
      "month nb 4\n",
      "index from 2160 to 2880\n",
      "0\n",
      "month nb 5\n",
      "index from 2880 to 3600\n",
      "0\n",
      "month nb 6\n",
      "index from 3600 to 4320\n",
      "0\n",
      "month nb 7\n",
      "index from 4320 to 5040\n",
      "0\n",
      "month nb 8\n",
      "index from 5040 to 5760\n",
      "0\n",
      "month nb 9\n",
      "index from 5760 to 6480\n",
      "11987928\n",
      "month nb 10\n",
      "index from 6480 to 7200\n",
      "0\n",
      "month nb 11\n",
      "index from 7200 to 7920\n",
      "0\n",
      "month nb 12\n",
      "index from 7920 to 8640\n",
      "0\n"
     ]
    }
   ],
   "source": [
    "for month in np.arange(1,13,1):\n",
    "    print('month nb '+str(month))\n",
    "    print('index from '+str((month-1)*24*30)+' to '+str((month)*24*30))\n",
    "    u_month=dsu['sozocrtx'][(month-1)*24*30:(month)*24*30,jmin:jmax,imin:imax]\n",
    "    check_NaN = (1*np.isnan(u_month.values)).sum()\n",
    "    print(check_NaN)\n",
    "    "
   ]
  },
  {
   "cell_type": "code",
   "execution_count": null,
   "metadata": {},
   "outputs": [],
   "source": []
  }
 ],
 "metadata": {
  "kernelspec": {
   "display_name": "pangeo_cloud",
   "language": "python",
   "name": "pangeo-cloud"
  },
  "language_info": {
   "codemirror_mode": {
    "name": "ipython",
    "version": 3
   },
   "file_extension": ".py",
   "mimetype": "text/x-python",
   "name": "python",
   "nbconvert_exporter": "python",
   "pygments_lexer": "ipython3",
   "version": "3.6.7"
  }
 },
 "nbformat": 4,
 "nbformat_minor": 2
}
