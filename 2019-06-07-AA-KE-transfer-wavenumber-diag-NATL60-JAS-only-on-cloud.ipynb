{
 "cells": [
  {
   "cell_type": "code",
   "execution_count": 1,
   "metadata": {},
   "outputs": [
    {
     "data": {
      "application/vnd.jupyter.widget-view+json": {
       "model_id": "ff145c5931d64eefb7527c9b76da76d6",
       "version_major": 2,
       "version_minor": 0
      },
      "text/plain": [
       "VBox(children=(HTML(value='<h2>KubeCluster</h2>'), HBox(children=(HTML(value='\\n<div>\\n  <style scoped>\\n    .…"
      ]
     },
     "metadata": {},
     "output_type": "display_data"
    }
   ],
   "source": [
    "from dask.distributed import Client, progress\n",
    "# HPC\n",
    "# client = Client(scheduler_file='/glade/scratch/jhamman/scheduler.json')\n",
    "# client\n",
    "\n",
    "from dask_kubernetes import KubeCluster\n",
    "cluster = KubeCluster(n_workers=10)\n",
    "cluster"
   ]
  },
  {
   "cell_type": "code",
   "execution_count": 2,
   "metadata": {},
   "outputs": [
    {
     "data": {
      "text/html": [
       "<table style=\"border: 2px solid white;\">\n",
       "<tr>\n",
       "<td style=\"vertical-align: top; border: 0px solid white\">\n",
       "<h3>Client</h3>\n",
       "<ul>\n",
       "  <li><b>Scheduler: </b>tcp://10.32.1.180:38113\n",
       "  <li><b>Dashboard: </b><a href='/user/0000-0001-7783-5629/proxy/8787/status' target='_blank'>/user/0000-0001-7783-5629/proxy/8787/status</a>\n",
       "</ul>\n",
       "</td>\n",
       "<td style=\"vertical-align: top; border: 0px solid white\">\n",
       "<h3>Cluster</h3>\n",
       "<ul>\n",
       "  <li><b>Workers: </b>0</li>\n",
       "  <li><b>Cores: </b>0</li>\n",
       "  <li><b>Memory: </b>0 B</li>\n",
       "</ul>\n",
       "</td>\n",
       "</tr>\n",
       "</table>"
      ],
      "text/plain": [
       "<Client: scheduler='tcp://10.32.1.180:38113' processes=0 cores=0>"
      ]
     },
     "execution_count": 2,
     "metadata": {},
     "output_type": "execute_result"
    }
   ],
   "source": [
    "client = Client(cluster)\n",
    "client"
   ]
  },
  {
   "cell_type": "code",
   "execution_count": 3,
   "metadata": {},
   "outputs": [],
   "source": [
    "import sys, glob\n",
    "import numpy as np\n",
    "import xarray as xr\n",
    "import xscale.spectral.fft as xfft\n",
    "import xscale \n",
    "import Wavenum_freq_spec_func as wfs\n",
    "import time"
   ]
  },
  {
   "cell_type": "code",
   "execution_count": 4,
   "metadata": {},
   "outputs": [],
   "source": [
    "import cartopy.crs as ccrs\n",
    "import cartopy.feature as cfeature\n",
    "from cartopy.mpl.gridliner import LONGITUDE_FORMATTER, LATITUDE_FORMATTER\n",
    "\n",
    "import matplotlib.pyplot as plt\n",
    "import matplotlib.cm as mplcm\n",
    "from matplotlib.colors import LogNorm\n",
    "\n",
    "seq_cmap = mplcm.Blues\n",
    "div_cmap = mplcm.seismic\n"
   ]
  },
  {
   "cell_type": "code",
   "execution_count": 5,
   "metadata": {},
   "outputs": [
    {
     "name": "stdout",
     "output_type": "stream",
     "text": [
      "CPU times: user 27.6 s, sys: 5.11 s, total: 32.7 s\n",
      "Wall time: 2min 25s\n"
     ]
    }
   ],
   "source": [
    "%%time\n",
    "import gcsfs\n",
    "\n",
    "fs = gcsfs.GCSFileSystem(project='pangeo-181919', token='anon', access='read_only')\n",
    "gcsmapgriduJAS=gcsfs.mapping.GCSMap('pangeo-data/zarr_NATL60-CJM165_SSU_1h_y2013m07-09',gcs=fs,check=False,create=False)\n",
    "dsuJAS=xr.open_zarr(gcsmapgriduJAS)\n",
    "\n",
    "gcsmapgridv=gcsfs.mapping.GCSMap('pangeo-data/NATL60-CJM165-SSV-1h-1m2deg2deg',gcs=fs,check=False,create=False)\n",
    "dsv=xr.open_zarr(gcsmapgridv)\n"
   ]
  },
  {
   "cell_type": "code",
   "execution_count": 6,
   "metadata": {},
   "outputs": [
    {
     "name": "stdout",
     "output_type": "stream",
     "text": [
      "CPU times: user 1.1 s, sys: 162 ms, total: 1.26 s\n",
      "Wall time: 5.26 s\n"
     ]
    }
   ],
   "source": [
    "%%time\n",
    "lat=dsv['nav_lat']\n",
    "lon=dsv['nav_lon']\n",
    " \n",
    "latmin = 40.0; latmax = 45.0;\n",
    "lonmin = -40.0; lonmax = -35.0;\n",
    "\n",
    "domain = (lonmin<lon) * (lon<lonmax) * (latmin<lat) * (lat<latmax)\n",
    "where = np.where(domain)\n",
    "\n",
    "#get indice\n",
    "jmin = np.min(where[0][:])\n",
    "jmax = np.max(where[0][:])\n",
    "imin = np.min(where[1][:])\n",
    "imax = np.max(where[1][:])\n",
    "\n",
    "latbox=lat[jmin:jmax,imin:imax]\n",
    "lonbox=lon[jmin:jmax,imin:imax]\n"
   ]
  },
  {
   "cell_type": "code",
   "execution_count": 7,
   "metadata": {},
   "outputs": [
    {
     "name": "stdout",
     "output_type": "stream",
     "text": [
      "Select box area\n",
      "get dx and dy\n",
      "Detrend data in all dimension\n",
      "Apply hanning windowing\n",
      "velocity derivatives\n",
      "computer terms\n",
      "fft u v \n",
      "fft phi\n",
      "multiply\n",
      "Compute transfer\n",
      "Get frequency and wavenumber\n",
      "Get istropic wavenumber\n",
      "Get numpy array\n"
     ]
    },
    {
     "name": "stderr",
     "output_type": "stream",
     "text": [
      "distributed.utils_perf - WARNING - full garbage collections took 26% CPU time recently (threshold: 10%)\n",
      "distributed.utils_perf - WARNING - full garbage collections took 28% CPU time recently (threshold: 10%)\n",
      "distributed.utils_perf - WARNING - full garbage collections took 30% CPU time recently (threshold: 10%)\n",
      "distributed.utils_perf - WARNING - full garbage collections took 32% CPU time recently (threshold: 10%)\n",
      "distributed.utils_perf - WARNING - full garbage collections took 34% CPU time recently (threshold: 10%)\n",
      "distributed.utils_perf - WARNING - full garbage collections took 36% CPU time recently (threshold: 10%)\n",
      "distributed.utils_perf - WARNING - full garbage collections took 37% CPU time recently (threshold: 10%)\n",
      "distributed.utils_perf - WARNING - full garbage collections took 40% CPU time recently (threshold: 10%)\n",
      "distributed.utils_perf - WARNING - full garbage collections took 41% CPU time recently (threshold: 10%)\n",
      "distributed.utils_perf - WARNING - full garbage collections took 43% CPU time recently (threshold: 10%)\n",
      "distributed.utils_perf - WARNING - full garbage collections took 44% CPU time recently (threshold: 10%)\n",
      "distributed.utils_perf - WARNING - full garbage collections took 45% CPU time recently (threshold: 10%)\n",
      "distributed.utils_perf - WARNING - full garbage collections took 46% CPU time recently (threshold: 10%)\n",
      "distributed.utils_perf - WARNING - full garbage collections took 48% CPU time recently (threshold: 10%)\n",
      "distributed.utils_perf - WARNING - full garbage collections took 61% CPU time recently (threshold: 10%)\n",
      "distributed.utils_perf - WARNING - full garbage collections took 62% CPU time recently (threshold: 10%)\n",
      "distributed.utils_perf - WARNING - full garbage collections took 64% CPU time recently (threshold: 10%)\n",
      "distributed.utils_perf - WARNING - full garbage collections took 64% CPU time recently (threshold: 10%)\n",
      "distributed.utils_perf - WARNING - full garbage collections took 66% CPU time recently (threshold: 10%)\n",
      "distributed.utils_perf - WARNING - full garbage collections took 67% CPU time recently (threshold: 10%)\n",
      "distributed.utils_perf - WARNING - full garbage collections took 47% CPU time recently (threshold: 10%)\n",
      "distributed.utils_perf - WARNING - full garbage collections took 42% CPU time recently (threshold: 10%)\n"
     ]
    },
    {
     "name": "stdout",
     "output_type": "stream",
     "text": [
      "Get transfer\n",
      "0\n",
      "100\n",
      "200\n",
      "300\n",
      "400\n",
      "500\n",
      "600\n",
      "700\n",
      "800\n",
      "900\n",
      "1000\n",
      "1100\n",
      "1200\n",
      "1300\n",
      "1400\n",
      "1500\n",
      "1600\n",
      "1700\n",
      "1800\n",
      "1900\n",
      "2000\n",
      "2100\n",
      "2200\n",
      "Get flux\n",
      "0\n",
      "100\n",
      "200\n",
      "300\n",
      "400\n",
      "500\n",
      "600\n",
      "700\n",
      "800\n",
      "900\n",
      "1000\n",
      "1100\n",
      "1200\n",
      "1300\n",
      "1400\n",
      "1500\n",
      "1600\n",
      "1700\n",
      "1800\n",
      "1900\n",
      "2000\n",
      "2100\n",
      "2200\n",
      "Save to Netscdf file\n",
      "CPU times: user 24min 50s, sys: 2min 35s, total: 27min 26s\n",
      "Wall time: 26min 13s\n"
     ]
    }
   ],
   "source": [
    "%%time\n",
    "\n",
    "print('Select box area')\n",
    "u_JAS_box=dsuJAS.vozocrtx[:,jmin:jmax,imin:imax].chunk({'time_counter':10,'x':120,'y':120})\n",
    "v_JAS_box=dsv.vomecrty[6552:,jmin:jmax,imin:imax].chunk({'time_counter':10,'x':120,'y':120})\n",
    "\n",
    "# - get dx and dy\n",
    "print('get dx and dy')\n",
    "dx_JAS,dy_JAS = wfs.get_dx_dy(u_JAS_box[0],lonbox,latbox)\n",
    "\n",
    "#... Detrend data in all dimension ...\n",
    "print('Detrend data in all dimension')\n",
    "u_JAS = wfs.detrendn(u_JAS_box,axes=[0,1,2])\n",
    "v_JAS = wfs.detrendn(v_JAS_box,axes=[0,1,2])\n",
    "\n",
    "#... Apply hanning windowing ...') \n",
    "print('Apply hanning windowing')\n",
    "u_JAS = wfs.apply_window(u_JAS, u_JAS.dims, window_type='hanning')\n",
    "v_JAS = wfs.apply_window(v_JAS, v_JAS.dims, window_type='hanning')\n",
    "\n",
    "\n",
    "# - get derivatives\n",
    "print('velocity derivatives')\n",
    "derivatives_JAS = wfs.velocity_derivatives(u_JAS, v_JAS, xdim='x', ydim='y', dx={'x': dx_JAS, 'y': dy_JAS})\n",
    "dudx_JAS = derivatives_JAS['u_x']; dudy_JAS = derivatives_JAS['u_y']\n",
    "dvdx_JAS = derivatives_JAS['v_x']; dvdy_JAS = derivatives_JAS['v_y']\n",
    "\n",
    "# - compute terms\n",
    "print('computer terms')\n",
    "phi1_JAS = u_JAS*dudx_JAS + v_JAS*dudy_JAS\n",
    "phi2_JAS = u_JAS*dvdx_JAS + v_JAS*dvdy_JAS\n",
    "\n",
    "print('fft u v ')\n",
    "u_JAShat = xfft.fft(u_JAS, dim=('time_counter', 'x', 'y'), dx={'x': dx_JAS, 'y': dx_JAS}, sym=True)\n",
    "v_JAShat = xfft.fft(v_JAS, dim=('time_counter', 'x', 'y'), dx={'x': dx_JAS, 'y': dx_JAS}, sym=True)\n",
    "\n",
    "print('fft phi')\n",
    "phi1_JAS_hat = xfft.fft(phi1_JAS, dim=('time_counter', 'x', 'y'), dx={'x': dx_JAS, 'y': dx_JAS}, sym=True)\n",
    "phi2_JAS_hat = xfft.fft(phi2_JAS, dim=('time_counter', 'x', 'y'), dx={'x': dx_JAS, 'y': dx_JAS}, sym=True)\n",
    "\n",
    "print('multiply')\n",
    "tm1_JAS = (u_JAShat.conj())*phi1_JAS_hat\n",
    "tm2_JAS = (v_JAShat.conj())*phi2_JAS_hat\n",
    "\n",
    "# - computer transfer\n",
    "print('Compute transfer')\n",
    "Nk_JAS,Nj_JAS,Ni_JAS = u_JAS.shape\n",
    "transfer_2D_JAS = -1.0*(tm1_JAS + tm2_JAS)/np.square(Ni_JAS*Nj_JAS)\n",
    "transfer_term_JAS = transfer_2D_JAS.real\n",
    "\n",
    "#... Get frequency and wavenumber ... \n",
    "print('Get frequency and wavenumber')\n",
    "ffrequency_JAS = u_JAShat.f_time_counter\n",
    "kx_JAS = u_JAShat.f_x\n",
    "ky_JAS = u_JAShat.f_y\n",
    "\n",
    "#... Get istropic wavenumber ... \n",
    "print('Get istropic wavenumber')\n",
    "wavenumber_JAS,kradial_JAS = wfs.get_wavnum_kradial(kx_JAS,ky_JAS)\n",
    "\n",
    "#... Get numpy array ... \n",
    "print('Get numpy array')\n",
    "var_psd_np_JAS = transfer_term_JAS.values\n",
    "\n",
    "#... Get 2D frequency-wavenumber field ... \n",
    "print('Get transfer')\n",
    "transfer_JAS = wfs.get_f_k_in_2D(kradial_JAS,wavenumber_JAS,var_psd_np_JAS) \n",
    "\n",
    "print('Get flux')\n",
    "flux_JAS = wfs.get_flux_in_1D(kradial_JAS,wavenumber_JAS,var_psd_np_JAS)\n",
    "\n",
    "# Save to Netscdf file\n",
    "# - build dataarray\n",
    "print('Save to Netscdf file')\n",
    "transfer_JAS_da = xr.DataArray(transfer_JAS,dims=['frequency','wavenumber'],name=\"transfer\",coords=[ffrequency_JAS ,wavenumber_JAS])\n",
    "flux_JAS_da = xr.DataArray(flux_JAS,dims=['frequency','wavenumber'],name=\"flux\",coords=[ffrequency_JAS,wavenumber_JAS])\n",
    "transfer_JAS_da.attrs['Name'] = 'KE_Transfer_Flux_JAS_w_k_from_1h_NATL60-CJM165.nc'\n",
    "\n",
    "transfer_JAS_da.to_dataset().to_netcdf(path='KE_Transfer_Flux_JAS_w_k_from_1h_NATL60-CJM165.nc',mode='w',engine='scipy')\n",
    "flux_JAS_da.to_dataset().to_netcdf(path='KE_Transfer_Flux_JAS_w_k_from_1h_NATL60-CJM165.nc',mode='a',engine='scipy')\n"
   ]
  },
  {
   "cell_type": "code",
   "execution_count": null,
   "metadata": {},
   "outputs": [],
   "source": []
  }
 ],
 "metadata": {
  "kernelspec": {
   "display_name": "Python 3",
   "language": "python",
   "name": "python3"
  },
  "language_info": {
   "codemirror_mode": {
    "name": "ipython",
    "version": 3
   },
   "file_extension": ".py",
   "mimetype": "text/x-python",
   "name": "python",
   "nbconvert_exporter": "python",
   "pygments_lexer": "ipython3",
   "version": "3.6.7"
  }
 },
 "nbformat": 4,
 "nbformat_minor": 2
}
