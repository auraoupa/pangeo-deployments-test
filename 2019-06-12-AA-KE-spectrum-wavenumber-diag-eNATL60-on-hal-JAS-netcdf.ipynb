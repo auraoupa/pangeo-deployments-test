{
 "cells": [
  {
   "cell_type": "code",
   "execution_count": 1,
   "metadata": {},
   "outputs": [
    {
     "data": {
      "application/vnd.jupyter.widget-view+json": {
       "model_id": "32466aac9d43426cb4803576cf135919",
       "version_major": 2,
       "version_minor": 0
      },
      "text/plain": [
       "VBox(children=(HTML(value='<h2>PBSCluster</h2>'), HBox(children=(HTML(value='\\n<div>\\n  <style scoped>\\n    .d…"
      ]
     },
     "metadata": {},
     "output_type": "display_data"
    }
   ],
   "source": [
    "from dask_jobqueue import PBSCluster\n",
    "from dask.distributed import Client\n",
    "import dask.dataframe as dd\n",
    "\n",
    "cluster = PBSCluster(cores=4, memory=\"20GB\", project='PangeoKEspectrumeNATL60', walltime='04:00:00')\n",
    "cluster.scale(12)\n",
    "cluster"
   ]
  },
  {
   "cell_type": "code",
   "execution_count": 3,
   "metadata": {},
   "outputs": [
    {
     "data": {
      "text/html": [
       "<table style=\"border: 2px solid white;\">\n",
       "<tr>\n",
       "<td style=\"vertical-align: top; border: 0px solid white\">\n",
       "<h3>Client</h3>\n",
       "<ul>\n",
       "  <li><b>Scheduler: </b>tcp://10.120.43.58:45975\n",
       "  <li><b>Dashboard: </b><a href='http://10.120.43.58:8787/status' target='_blank'>http://10.120.43.58:8787/status</a>\n",
       "</ul>\n",
       "</td>\n",
       "<td style=\"vertical-align: top; border: 0px solid white\">\n",
       "<h3>Cluster</h3>\n",
       "<ul>\n",
       "  <li><b>Workers: </b>12</li>\n",
       "  <li><b>Cores: </b>48</li>\n",
       "  <li><b>Memory: </b>240.00 GB</li>\n",
       "</ul>\n",
       "</td>\n",
       "</tr>\n",
       "</table>"
      ],
      "text/plain": [
       "<Client: scheduler='tcp://10.120.43.58:45975' processes=12 cores=48>"
      ]
     },
     "execution_count": 3,
     "metadata": {},
     "output_type": "execute_result"
    }
   ],
   "source": [
    "client = Client(cluster)\n",
    "client"
   ]
  },
  {
   "cell_type": "code",
   "execution_count": 4,
   "metadata": {},
   "outputs": [],
   "source": [
    "import sys, glob\n",
    "import numpy as np\n",
    "import xarray as xr\n",
    "import xscale.spectral.fft as xfft\n",
    "import xscale \n",
    "import Wavenum_freq_spec_func as wfs\n",
    "import time"
   ]
  },
  {
   "cell_type": "code",
   "execution_count": 5,
   "metadata": {},
   "outputs": [],
   "source": [
    "import cartopy.crs as ccrs\n",
    "import cartopy.feature as cfeature\n",
    "from cartopy.mpl.gridliner import LONGITUDE_FORMATTER, LATITUDE_FORMATTER\n",
    "\n",
    "import matplotlib.pyplot as plt\n",
    "import matplotlib.cm as mplcm\n",
    "from matplotlib.colors import LogNorm\n",
    "\n",
    "seq_cmap = mplcm.Blues\n",
    "div_cmap = mplcm.seismic\n"
   ]
  },
  {
   "cell_type": "code",
   "execution_count": 7,
   "metadata": {},
   "outputs": [
    {
     "name": "stdout",
     "output_type": "stream",
     "text": [
      "CPU times: user 46.8 s, sys: 14.3 s, total: 1min 1s\n",
      "Wall time: 3min 10s\n"
     ]
    }
   ],
   "source": [
    "%%time\n",
    "dsuJ=xr.open_mfdataset('/work/ALT/odatis/eNATL60/BLBT02/gridU-2D/eNATL60-BLBT02_1h_*200907*_gridU-2D.nc',parallel=True)\n",
    "dsvJ=xr.open_mfdataset('/work/ALT/odatis/eNATL60/BLBT02/gridV-2D/eNATL60-BLBT02_1h_*200907*_gridV-2D.nc',parallel=True)\n"
   ]
  },
  {
   "cell_type": "code",
   "execution_count": 8,
   "metadata": {},
   "outputs": [
    {
     "data": {
      "text/plain": [
       "<xarray.Dataset>\n",
       "Dimensions:               (axis_nbounds: 2, time_counter: 744, x: 8354, y: 4729)\n",
       "Coordinates:\n",
       "    nav_lat               (y, x) float32 0.0 0.0 0.0 0.0 0.0 ... 0.0 0.0 0.0 0.0\n",
       "    nav_lon               (y, x) float32 0.0 0.0 0.0 0.0 0.0 ... 0.0 0.0 0.0 0.0\n",
       "    time_centered         (time_counter) datetime64[ns] dask.array<shape=(744,), chunksize=(24,)>\n",
       "  * time_counter          (time_counter) datetime64[ns] 2009-07-01T00:30:00 ... 2009-07-31T23:30:00\n",
       "Dimensions without coordinates: axis_nbounds, x, y\n",
       "Data variables:\n",
       "    time_centered_bounds  (time_counter, axis_nbounds) float64 dask.array<shape=(744, 2), chunksize=(24, 2)>\n",
       "    time_counter_bounds   (time_counter, axis_nbounds) float64 dask.array<shape=(744, 2), chunksize=(24, 2)>\n",
       "    sozocrtx              (time_counter, y, x) float32 dask.array<shape=(744, 4729, 8354), chunksize=(24, 4729, 8354)>\n",
       "    bozocrtx              (time_counter, y, x) float32 dask.array<shape=(744, 4729, 8354), chunksize=(24, 4729, 8354)>\n",
       "Attributes:\n",
       "    name:         /scratch/tmp/3746956/eNATL60-BLBT02_1h_20090630_20090704_gr...\n",
       "    description:  ocean U grid variables\n",
       "    title:        ocean U grid variables\n",
       "    Conventions:  CF-1.6\n",
       "    timeStamp:    2018-Dec-31 18:46:07 GMT\n",
       "    uuid:         f5d3ef01-77a3-4c9a-967c-21b5c90cdf32\n",
       "    ibegin:       0\n",
       "    ni:           8354\n",
       "    jbegin:       0\n",
       "    nj:           9\n",
       "    file_name:    eNATL60-BLBT02_1h_20090630_20090704_gridU-2D_20090701-20090...\n",
       "    TimeStamp:    08/01/2019 09:34:23 +0100"
      ]
     },
     "execution_count": 8,
     "metadata": {},
     "output_type": "execute_result"
    }
   ],
   "source": [
    "dsuJ"
   ]
  },
  {
   "cell_type": "code",
   "execution_count": 9,
   "metadata": {},
   "outputs": [
    {
     "name": "stdout",
     "output_type": "stream",
     "text": [
      "CPU times: user 678 ms, sys: 203 ms, total: 881 ms\n",
      "Wall time: 812 ms\n"
     ]
    }
   ],
   "source": [
    "%%time\n",
    "lat=dsuJ['nav_lat']\n",
    "lon=dsuJ['nav_lon']\n",
    " \n",
    "latmin = 40.0; latmax = 45.0;\n",
    "lonmin = -40.0; lonmax = -35.0;\n",
    "\n",
    "domain = (lonmin<lon) * (lon<lonmax) * (latmin<lat) * (lat<latmax)\n",
    "where = np.where(domain)\n",
    "\n",
    "#get indice\n",
    "jmin = np.min(where[0][:])\n",
    "jmax = np.max(where[0][:])\n",
    "imin = np.min(where[1][:])\n",
    "imax = np.max(where[1][:])\n",
    "\n",
    "latbox=lat[jmin:jmax,imin:imax]\n",
    "lonbox=lon[jmin:jmax,imin:imax]\n"
   ]
  },
  {
   "cell_type": "code",
   "execution_count": 10,
   "metadata": {},
   "outputs": [
    {
     "name": "stdout",
     "output_type": "stream",
     "text": [
      "Open netcdf for J\n",
      "Select dates for J\n",
      "Select box area for J\n",
      "Open netcdf for A\n",
      "Select dates for A\n",
      "Select box area for A\n",
      "Open netcdf for S\n",
      "Select dates for S\n",
      "Select box area for S\n",
      "Concat data array\n",
      "get dx and dy\n",
      "Detrend data in all dimension\n",
      "Apply hanning windowing\n",
      "FFT \n",
      "PSD \n",
      "Get frequency and wavenumber\n",
      "Get istropic wavenumber\n",
      "Get numpy array\n",
      "Get f k in 2D\n",
      "0\n",
      "100\n",
      "200\n",
      "300\n",
      "400\n",
      "500\n",
      "600\n",
      "700\n",
      "800\n",
      "900\n",
      "1000\n",
      "1100\n",
      "1200\n",
      "1300\n",
      "1400\n",
      "1500\n",
      "1600\n",
      "1700\n",
      "1800\n",
      "1900\n",
      "2000\n",
      "2100\n",
      "2200\n",
      "0\n",
      "100\n",
      "200\n",
      "300\n",
      "400\n",
      "500\n",
      "600\n",
      "700\n",
      "800\n",
      "900\n",
      "1000\n",
      "1100\n",
      "1200\n",
      "1300\n",
      "1400\n",
      "1500\n",
      "1600\n",
      "1700\n",
      "1800\n",
      "1900\n",
      "2000\n",
      "2100\n",
      "2200\n",
      "CPU times: user 11min 30s, sys: 1min 21s, total: 12min 51s\n",
      "Wall time: 21min\n"
     ]
    }
   ],
   "source": [
    "%%time\n",
    "print('Open netcdf for J')\n",
    "dsuJ=xr.open_mfdataset('/work/ALT/odatis/eNATL60/BLBT02/gridU-2D/eNATL60-BLBT02_1h_*200907*_gridU-2D.nc',parallel=True)\n",
    "dsvJ=xr.open_mfdataset('/work/ALT/odatis/eNATL60/BLBT02/gridV-2D/eNATL60-BLBT02_1h_*200907*_gridV-2D.nc',parallel=True)\n",
    "\n",
    "print('Select dates for J')\n",
    "u_J=dsuJ.sel(time_counter=slice('2009-07-01','2009-07-31'))['sozocrtx']\n",
    "v_J=dsvJ.sel(time_counter=slice('2009-07-01','2009-07-31'))['somecrty']\n",
    "\n",
    "\n",
    "print('Select box area for J')\n",
    "u_J_box=u_J[:,jmin:jmax,imin:imax].chunk({'time_counter':10,'x':120,'y':120})\n",
    "v_J_box=v_J[:,jmin:jmax,imin:imax].chunk({'time_counter':10,'x':120,'y':120})\n",
    "\n",
    "print('Open netcdf for A')\n",
    "dsuA=xr.open_mfdataset('/work/ALT/odatis/eNATL60/BLBT02/gridU-2D/eNATL60-BLBT02_1h_*200908*_gridU-2D.nc',parallel=True)\n",
    "dsvA=xr.open_mfdataset('/work/ALT/odatis/eNATL60/BLBT02/gridV-2D/eNATL60-BLBT02_1h_*200908*_gridV-2D.nc',parallel=True)\n",
    "\n",
    "print('Select dates for A')\n",
    "u_A=dsuA.sel(time_counter=slice('2009-08-01','2009-08-31'))['sozocrtx']\n",
    "v_A=dsvA.sel(time_counter=slice('2009-08-01','2009-08-31'))['somecrty']\n",
    "\n",
    "\n",
    "print('Select box area for A')\n",
    "u_A_box=u_A[:,jmin:jmax,imin:imax].chunk({'time_counter':10,'x':120,'y':120})\n",
    "v_A_box=v_A[:,jmin:jmax,imin:imax].chunk({'time_counter':10,'x':120,'y':120})\n",
    "\n",
    "print('Open netcdf for S')\n",
    "dsuS=xr.open_mfdataset('/work/ALT/odatis/eNATL60/BLBT02/gridU-2D/eNATL60-BLBT02_1h_*200909*_gridU-2D.nc',parallel=True)\n",
    "dsvS=xr.open_mfdataset('/work/ALT/odatis/eNATL60/BLBT02/gridV-2D/eNATL60-BLBT02_1h_*200909*_gridV-2D.nc',parallel=True)\n",
    "\n",
    "print('Select dates for S')\n",
    "u_S=dsuS.sel(time_counter=slice('2009-09-01','2009-09-30'))['sozocrtx']\n",
    "v_S=dsvS.sel(time_counter=slice('2009-09-01','2009-09-30'))['somecrty']\n",
    "\n",
    "\n",
    "print('Select box area for S')\n",
    "u_S_box=u_S[:,jmin:jmax,imin:imax].chunk({'time_counter':10,'x':120,'y':120})\n",
    "v_S_box=v_S[:,jmin:jmax,imin:imax].chunk({'time_counter':10,'x':120,'y':120})\n",
    "\n",
    "print('Concat data array')\n",
    "u_JAS_box=xr.concat([u_J_box,u_A_box,u_S_box],dim='time_counter')\n",
    "v_JAS_box=xr.concat([v_J_box,v_A_box,u_S_box],dim='time_counter')\n",
    "\n",
    "# - get dx and dy\n",
    "print('get dx and dy')\n",
    "dx_JAS,dy_JAS = wfs.get_dx_dy(u_JAS_box[0],lonbox,latbox)\n",
    "\n",
    "\n",
    "#... Detrend data in all dimension ...\n",
    "print('Detrend data in all dimension')\n",
    "u_JAS = wfs.detrendn(u_JAS_box,axes=[0,1,2])\n",
    "v_JAS = wfs.detrendn(v_JAS_box,axes=[0,1,2])\n",
    "\n",
    "#... Apply hanning windowing ...') \n",
    "print('Apply hanning windowing')\n",
    "u_JAS = wfs.apply_window(u_JAS, u_JAS.dims, window_type='hanning')\n",
    "v_JAS = wfs.apply_window(v_JAS, v_JAS.dims, window_type='hanning')\n",
    "\n",
    "\n",
    "#... Apply hanning windowing ...') \n",
    "print('FFT ')\n",
    "u_JAShat = xfft.fft(u_JAS, dim=('time_counter', 'x', 'y'), dx={'x': dx_JAS, 'y': dx_JAS}, sym=True)\n",
    "v_JAShat = xfft.fft(v_JAS, dim=('time_counter', 'x', 'y'), dx={'x': dx_JAS, 'y': dx_JAS}, sym=True)\n",
    "\n",
    "#... Apply hanning windowing ...') \n",
    "print('PSD ')\n",
    "u_JAS_psd = xfft.psd(u_JAShat)\n",
    "v_JAS_psd = xfft.psd(v_JAShat)\n",
    "\n",
    "\n",
    "#... Get frequency and wavenumber ... \n",
    "print('Get frequency and wavenumber')\n",
    "frequency_JAS = u_JAShat.f_time_counter\n",
    "kx_JAS = u_JAShat.f_x\n",
    "ky_JAS = u_JAShat.f_y\n",
    "\n",
    "#... Get istropic wavenumber ... \n",
    "print('Get istropic wavenumber')\n",
    "wavenumber_JAS,kradial_JAS = wfs.get_wavnum_kradial(kx_JAS,ky_JAS)\n",
    "\n",
    "#... Get numpy array ... \n",
    "print('Get numpy array')\n",
    "u_JAS_psd_np = u_JAS_psd.values\n",
    "v_JAS_psd_np = v_JAS_psd.values\n",
    "\n",
    "#... Get 2D frequency-wavenumber field ... \n",
    "print('Get f k in 2D')\n",
    "u_JAS_wavenum_freq_spectrum = wfs.get_f_k_in_2D(kradial_JAS,wavenumber_JAS,u_JAS_psd_np)\n",
    "v_JAS_wavenum_freq_spectrum = wfs.get_f_k_in_2D(kradial_JAS,wavenumber_JAS,v_JAS_psd_np)\n",
    "\n",
    "KE_JAS_wavenum_freq_spectrum=0.5*(u_JAS_wavenum_freq_spectrum+v_JAS_wavenum_freq_spectrum)\n"
   ]
  },
  {
   "cell_type": "code",
   "execution_count": 11,
   "metadata": {},
   "outputs": [
    {
     "name": "stdout",
     "output_type": "stream",
     "text": [
      "Save to Netscdf file\n"
     ]
    }
   ],
   "source": [
    "# Save to Netscdf file\n",
    "# - build dataarray\n",
    "print('Save to Netscdf file')\n",
    "KE_JAS_wavenum_freq_spectrum_da = xr.DataArray(KE_JAS_wavenum_freq_spectrum,dims=['frequency','wavenumber'],name=\"Ke_spectrum\",coords=[frequency_JAS ,wavenumber_JAS])\n",
    "KE_JAS_wavenum_freq_spectrum_da.attrs['Name'] = 'KE_Spectrum_JAS_w_k_from_1h_eNATL60-BLBT02.nc'\n",
    "\n",
    "KE_JAS_wavenum_freq_spectrum_da.to_dataset().to_netcdf(path='KE_Spectrum_JAS_w_k_from_1h_eNATL60-BLBT02.nc',mode='w',engine='scipy')\n"
   ]
  },
  {
   "cell_type": "code",
   "execution_count": null,
   "metadata": {},
   "outputs": [],
   "source": []
  }
 ],
 "metadata": {
  "kernelspec": {
   "display_name": "Pangeo 2019-02",
   "language": "python",
   "name": "pangeo_201902"
  },
  "language_info": {
   "codemirror_mode": {
    "name": "ipython",
    "version": 3
   },
   "file_extension": ".py",
   "mimetype": "text/x-python",
   "name": "python",
   "nbconvert_exporter": "python",
   "pygments_lexer": "ipython3",
   "version": "3.7.1"
  }
 },
 "nbformat": 4,
 "nbformat_minor": 2
}
