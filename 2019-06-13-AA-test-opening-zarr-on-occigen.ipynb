{
 "cells": [
  {
   "cell_type": "code",
   "execution_count": 1,
   "metadata": {
    "collapsed": true
   },
   "outputs": [],
   "source": [
    "import xarray as xr\n",
    "import dask\n",
    "import dask.threaded\n",
    "import dask.multiprocessing\n",
    "from dask.distributed import Client\n",
    "import zarr\n",
    "import numpy as np                                                                                        \n",
    "\n",
    "c = Client()\n",
    "\n"
   ]
  },
  {
   "cell_type": "code",
   "execution_count": 2,
   "metadata": {},
   "outputs": [
    {
     "data": {
      "text/html": [
       "<table style=\"border: 2px solid white;\">\n",
       "<tr>\n",
       "<td style=\"vertical-align: top; border: 0px solid white\">\n",
       "<h3>Client</h3>\n",
       "<ul>\n",
       "  <li><b>Scheduler: </b>tcp://127.0.0.1:46010\n",
       "  <li><b>Dashboard: </b><a href='http://127.0.0.1:8787/status' target='_blank'>http://127.0.0.1:8787/status</a>\n",
       "</ul>\n",
       "</td>\n",
       "<td style=\"vertical-align: top; border: 0px solid white\">\n",
       "<h3>Cluster</h3>\n",
       "<ul>\n",
       "  <li><b>Workers: </b>8</li>\n",
       "  <li><b>Cores: </b>48</li>\n",
       "  <li><b>Memory: </b>118.00 GB</li>\n",
       "</ul>\n",
       "</td>\n",
       "</tr>\n",
       "</table>"
      ],
      "text/plain": [
       "<Client: scheduler='tcp://127.0.0.1:46010' processes=8 cores=48>"
      ]
     },
     "execution_count": 2,
     "metadata": {},
     "output_type": "execute_result"
    }
   ],
   "source": [
    "c"
   ]
  },
  {
   "cell_type": "code",
   "execution_count": 3,
   "metadata": {
    "collapsed": true
   },
   "outputs": [],
   "source": [
    "import sys, glob\n",
    "import numpy as np\n",
    "import xarray as xr\n",
    "import xscale.spectral.fft as xfft\n",
    "import xscale \n",
    "import Wavenum_freq_spec_func as wfs\n",
    "import time"
   ]
  },
  {
   "cell_type": "code",
   "execution_count": 5,
   "metadata": {},
   "outputs": [
    {
     "name": "stdout",
     "output_type": "stream",
     "text": [
      "CPU times: user 4.35 s, sys: 313 ms, total: 4.67 s\n",
      "Wall time: 5.05 s\n"
     ]
    }
   ],
   "source": [
    "%%time\n",
    "#dsu=xr.open_zarr('/scratch/cnt0024/hmg2840/albert7a/eNATL60/zarr/eNATL60-BLBT02-SSU-1h')\n",
    "dsv=xr.open_zarr('/store/albert7a/eNATL60/zarr/eNATL60-BLB002-SSV-1h')\n"
   ]
  },
  {
   "cell_type": "code",
   "execution_count": 5,
   "metadata": {},
   "outputs": [
    {
     "name": "stdout",
     "output_type": "stream",
     "text": [
      "CPU times: user 6min 43s, sys: 10min 53s, total: 17min 37s\n",
      "Wall time: 37min 10s\n"
     ]
    }
   ],
   "source": [
    "%%time\n",
    "dsu1=xr.open_mfdataset('/scratch/cnt0024/hmg2840/albert7a/eNATL60/eNATL60-BLBT02-S/1h/surf/eNATL60-BLBT02_*2010m01*_sozocrtx.nc',parallel=True)\n",
    "dsv1=xr.open_mfdataset('/scratch/cnt0024/hmg2840/albert7a/eNATL60/eNATL60-BLBT02-S/1h/surf/eNATL60-BLBT02_*2010m01*_somecrty.nc',parallel=True)\n",
    "\n",
    "dsu2=xr.open_mfdataset('/scratch/cnt0024/hmg2840/albert7a/eNATL60/eNATL60-BLBT02-S/1h/surf/eNATL60-BLBT02_*2010m02*_sozocrtx.nc',parallel=True)\n",
    "dsv2=xr.open_mfdataset('/scratch/cnt0024/hmg2840/albert7a/eNATL60/eNATL60-BLBT02-S/1h/surf/eNATL60-BLBT02_*2010m02*_somecrty.nc',parallel=True)\n",
    "\n",
    "dsu3=xr.open_mfdataset('/scratch/cnt0024/hmg2840/albert7a/eNATL60/eNATL60-BLBT02-S/1h/surf/eNATL60-BLBT02_*2010m03*_sozocrtx.nc',parallel=True)\n",
    "dsv3=xr.open_mfdataset('/scratch/cnt0024/hmg2840/albert7a/eNATL60/eNATL60-BLBT02-S/1h/surf/eNATL60-BLBT02_*2010m03*_somecrty.nc',parallel=True)\n",
    "\n",
    "dsu4=xr.open_mfdataset('/scratch/cnt0024/hmg2840/albert7a/eNATL60/eNATL60-BLBT02-S/1h/surf/eNATL60-BLBT02_*2010m04*_sozocrtx.nc',parallel=True)\n",
    "dsv4=xr.open_mfdataset('/scratch/cnt0024/hmg2840/albert7a/eNATL60/eNATL60-BLBT02-S/1h/surf/eNATL60-BLBT02_*2010m04*_somecrty.nc',parallel=True)\n",
    "\n",
    "dsu5=xr.open_mfdataset('/scratch/cnt0024/hmg2840/albert7a/eNATL60/eNATL60-BLBT02-S/1h/surf/eNATL60-BLBT02_*2010m05*_sozocrtx.nc',parallel=True)\n",
    "dsv5=xr.open_mfdataset('/scratch/cnt0024/hmg2840/albert7a/eNATL60/eNATL60-BLBT02-S/1h/surf/eNATL60-BLBT02_*2010m05*_somecrty.nc',parallel=True)\n",
    "\n",
    "dsu6=xr.open_mfdataset('/scratch/cnt0024/hmg2840/albert7a/eNATL60/eNATL60-BLBT02-S/1h/surf/eNATL60-BLBT02_*2010m06*_sozocrtx.nc',parallel=True)\n",
    "dsv6=xr.open_mfdataset('/scratch/cnt0024/hmg2840/albert7a/eNATL60/eNATL60-BLBT02-S/1h/surf/eNATL60-BLBT02_*2010m06*_somecrty.nc',parallel=True)\n",
    "\n",
    "dsu7=xr.open_mfdataset('/scratch/cnt0024/hmg2840/albert7a/eNATL60/eNATL60-BLBT02-S/1h/surf/eNATL60-BLBT02_*2009m07*_sozocrtx.nc',parallel=True)\n",
    "dsv7=xr.open_mfdataset('/scratch/cnt0024/hmg2840/albert7a/eNATL60/eNATL60-BLBT02-S/1h/surf/eNATL60-BLBT02_*2009m07*_somecrty.nc',parallel=True)\n",
    "\n",
    "dsu8=xr.open_mfdataset('/scratch/cnt0024/hmg2840/albert7a/eNATL60/eNATL60-BLBT02-S/1h/surf/eNATL60-BLBT02_*2009m08*_sozocrtx.nc',parallel=True)\n",
    "dsv8=xr.open_mfdataset('/scratch/cnt0024/hmg2840/albert7a/eNATL60/eNATL60-BLBT02-S/1h/surf/eNATL60-BLBT02_*2009m08*_somecrty.nc',parallel=True)\n",
    "\n",
    "dsu9=xr.open_mfdataset('/scratch/cnt0024/hmg2840/albert7a/eNATL60/eNATL60-BLBT02-S/1h/surf/eNATL60-BLBT02_*2009m09*_sozocrtx.nc',parallel=True)\n",
    "dsv9=xr.open_mfdataset('/scratch/cnt0024/hmg2840/albert7a/eNATL60/eNATL60-BLBT02-S/1h/surf/eNATL60-BLBT02_*2009m09*_somecrty.nc',parallel=True)\n",
    "\n",
    "dsu10=xr.open_mfdataset('/scratch/cnt0024/hmg2840/albert7a/eNATL60/eNATL60-BLBT02-S/1h/surf/eNATL60-BLBT02_*2009m10*_sozocrtx.nc',parallel=True)\n",
    "dsv10=xr.open_mfdataset('/scratch/cnt0024/hmg2840/albert7a/eNATL60/eNATL60-BLBT02-S/1h/surf/eNATL60-BLBT02_*2009m10*_somecrty.nc',parallel=True)\n",
    "\n",
    "dsu11=xr.open_mfdataset('/scratch/cnt0024/hmg2840/albert7a/eNATL60/eNATL60-BLBT02-S/1h/surf/eNATL60-BLBT02_*2009m11*_sozocrtx.nc',parallel=True)\n",
    "dsv11=xr.open_mfdataset('/scratch/cnt0024/hmg2840/albert7a/eNATL60/eNATL60-BLBT02-S/1h/surf/eNATL60-BLBT02_*2009m11*_somecrty.nc',parallel=True)\n",
    "\n",
    "dsu12=xr.open_mfdataset('/scratch/cnt0024/hmg2840/albert7a/eNATL60/eNATL60-BLBT02-S/1h/surf/eNATL60-BLBT02_*2009m12*_sozocrtx.nc',parallel=True)\n",
    "dsv12=xr.open_mfdataset('/scratch/cnt0024/hmg2840/albert7a/eNATL60/eNATL60-BLBT02-S/1h/surf/eNATL60-BLBT02_*2009m12*_somecrty.nc',parallel=True)\n"
   ]
  },
  {
   "cell_type": "code",
   "execution_count": null,
   "metadata": {
    "collapsed": true
   },
   "outputs": [],
   "source": []
  }
 ],
 "metadata": {
  "kernelspec": {
   "display_name": "Python 2",
   "language": "python",
   "name": "python2"
  },
  "language_info": {
   "codemirror_mode": {
    "name": "ipython",
    "version": 2
   },
   "file_extension": ".py",
   "mimetype": "text/x-python",
   "name": "python",
   "nbconvert_exporter": "python",
   "pygments_lexer": "ipython2",
   "version": "2.7.16"
  }
 },
 "nbformat": 4,
 "nbformat_minor": 2
}
