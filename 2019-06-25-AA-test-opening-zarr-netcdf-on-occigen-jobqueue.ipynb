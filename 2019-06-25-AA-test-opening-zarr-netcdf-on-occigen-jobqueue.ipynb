{
 "cells": [
  {
   "cell_type": "code",
   "execution_count": 1,
   "metadata": {},
   "outputs": [
    {
     "name": "stderr",
     "output_type": "stream",
     "text": [
      "/scratch/cnt0024/hmg2840/albert7a/anaconda2/envs/pangeo/lib/python3.6/site-packages/distributed/bokeh/core.py:57: UserWarning: \n",
      "Port 8787 is already in use. \n",
      "Perhaps you already have a cluster running?\n",
      "Hosting the diagnostics dashboard on a random port instead.\n",
      "  warnings.warn('\\n' + msg)\n"
     ]
    }
   ],
   "source": [
    "import xarray as xr\n",
    "import dask\n",
    "import dask.threaded\n",
    "import dask.multiprocessing\n",
    "from dask.distributed import Client\n",
    "import zarr\n",
    "import numpy as np                                                                                        \n",
    "\n",
    "c = Client()\n",
    "\n"
   ]
  },
  {
   "cell_type": "code",
   "execution_count": 2,
   "metadata": {},
   "outputs": [
    {
     "data": {
      "text/html": [
       "<table style=\"border: 2px solid white;\">\n",
       "<tr>\n",
       "<td style=\"vertical-align: top; border: 0px solid white\">\n",
       "<h3>Client</h3>\n",
       "<ul>\n",
       "  <li><b>Scheduler: </b>tcp://127.0.0.1:46812\n",
       "  <li><b>Dashboard: </b><a href='http://127.0.0.1:40119/status' target='_blank'>http://127.0.0.1:40119/status</a>\n",
       "</ul>\n",
       "</td>\n",
       "<td style=\"vertical-align: top; border: 0px solid white\">\n",
       "<h3>Cluster</h3>\n",
       "<ul>\n",
       "  <li><b>Workers: </b>8</li>\n",
       "  <li><b>Cores: </b>48</li>\n",
       "  <li><b>Memory: </b>134.91 GB</li>\n",
       "</ul>\n",
       "</td>\n",
       "</tr>\n",
       "</table>"
      ],
      "text/plain": [
       "<Client: scheduler='tcp://127.0.0.1:46812' processes=8 cores=48>"
      ]
     },
     "execution_count": 2,
     "metadata": {},
     "output_type": "execute_result"
    }
   ],
   "source": [
    "c"
   ]
  },
  {
   "cell_type": "code",
   "execution_count": 3,
   "metadata": {},
   "outputs": [],
   "source": [
    "import sys, glob\n",
    "import numpy as np\n",
    "import xarray as xr\n",
    "import xscale.spectral.fft as xfft\n",
    "import xscale \n",
    "import Wavenum_freq_spec_func as wfs\n",
    "import time"
   ]
  },
  {
   "cell_type": "code",
   "execution_count": 5,
   "metadata": {},
   "outputs": [
    {
     "name": "stdout",
     "output_type": "stream",
     "text": [
      "CPU times: user 4.65 s, sys: 270 ms, total: 4.92 s\n",
      "Wall time: 5.01 s\n"
     ]
    }
   ],
   "source": [
    "%%time\n",
    "dsu=xr.open_zarr('/scratch/cnt0024/hmg2840/albert7a/eNATL60/zarr/eNATL60-BLBT02-SSU-1h')\n",
    "#dsv=xr.open_zarr('/work/ALT/odatis/eNATL60/zarr/eNATL60-BLBT02-SSV-1h')\n"
   ]
  },
  {
   "cell_type": "code",
   "execution_count": 6,
   "metadata": {},
   "outputs": [
    {
     "data": {
      "text/plain": [
       "<xarray.Dataset>\n",
       "Dimensions:       (time_counter: 8760, x: 8354, y: 4729)\n",
       "Coordinates:\n",
       "  * time_counter  (time_counter) datetime64[ns] 2009-07-01T00:30:00 ... 2010-06-30T23:30:00\n",
       "Dimensions without coordinates: x, y\n",
       "Data variables:\n",
       "    nav_lat       (y, x) float32 dask.array<shape=(4729, 8354), chunksize=(296, 1045)>\n",
       "    nav_lon       (y, x) float32 dask.array<shape=(4729, 8354), chunksize=(296, 1045)>\n",
       "    sozocrtx      (time_counter, y, x) float32 dask.array<shape=(8760, 4729, 8354), chunksize=(24, 120, 120)>\n",
       "Attributes:\n",
       "    Conventions:  CF-1.6\n",
       "    NCO:          4.4.6\n",
       "    TimeStamp:    08/01/2019 09:34:23 +0100\n",
       "    description:  ocean U grid variables\n",
       "    file_name:    eNATL60-BLBT02_1h_20090630_20090704_gridU-2D_20090701-20090...\n",
       "    history:      Fri May 24 23:57:12 2019: ncks -O -F -v sozocrtx /store/CT1...\n",
       "    ibegin:       0\n",
       "    jbegin:       0\n",
       "    name:         /scratch/tmp/3746956/eNATL60-BLBT02_1h_20090630_20090704_gr...\n",
       "    ni:           8354\n",
       "    nj:           9\n",
       "    timeStamp:    2018-Dec-31 18:46:07 GMT\n",
       "    title:        ocean U grid variables\n",
       "    uuid:         f5d3ef01-77a3-4c9a-967c-21b5c90cdf32"
      ]
     },
     "execution_count": 6,
     "metadata": {},
     "output_type": "execute_result"
    }
   ],
   "source": [
    "dsu"
   ]
  },
  {
   "cell_type": "code",
   "execution_count": 7,
   "metadata": {},
   "outputs": [
    {
     "name": "stdout",
     "output_type": "stream",
     "text": [
      "CPU times: user 751 ms, sys: 138 ms, total: 889 ms\n",
      "Wall time: 1.51 s\n"
     ]
    }
   ],
   "source": [
    "%%time\n",
    "lat=dsu['nav_lat']\n",
    "lon=dsu['nav_lon']\n",
    " \n",
    "latmin = 40.0; latmax = 45.0;\n",
    "lonmin = -40.0; lonmax = -35.0;\n",
    "\n",
    "domain = (lonmin<lon) * (lon<lonmax) * (latmin<lat) * (lat<latmax)\n",
    "where = np.where(domain)\n",
    "\n",
    "#get indice\n",
    "jmin = np.min(where[0][:])\n",
    "jmax = np.max(where[0][:])\n",
    "imin = np.min(where[1][:])\n",
    "imax = np.max(where[1][:])\n",
    "\n",
    "latbox=lat[jmin:jmax,imin:imax]\n",
    "lonbox=lon[jmin:jmax,imin:imax]\n"
   ]
  },
  {
   "cell_type": "code",
   "execution_count": 8,
   "metadata": {},
   "outputs": [
    {
     "name": "stdout",
     "output_type": "stream",
     "text": [
      "Select dates\n"
     ]
    }
   ],
   "source": [
    "print('Select dates')\n",
    "u_JAS=dsu.sel(time_counter=slice('2009-07-01','2009-09-30'))['sozocrtx']\n"
   ]
  },
  {
   "cell_type": "code",
   "execution_count": 9,
   "metadata": {},
   "outputs": [
    {
     "name": "stdout",
     "output_type": "stream",
     "text": [
      "Select box area\n"
     ]
    }
   ],
   "source": [
    "print('Select box area')\n",
    "u_JAS_box=u_JAS[:,jmin:jmax,imin:imax].chunk({'time_counter':10,'x':120,'y':120})\n"
   ]
  },
  {
   "cell_type": "code",
   "execution_count": 10,
   "metadata": {},
   "outputs": [
    {
     "data": {
      "text/plain": [
       "<xarray.DataArray 'sozocrtx' (time_counter: 2208, y: 401, x: 301)>\n",
       "dask.array<shape=(2208, 401, 301), dtype=float32, chunksize=(10, 120, 120)>\n",
       "Coordinates:\n",
       "  * time_counter  (time_counter) datetime64[ns] 2009-07-01T00:30:00 ... 2009-09-30T23:30:00\n",
       "Dimensions without coordinates: y, x\n",
       "Attributes:\n",
       "    cell_methods:        time: mean (interval: 40 s)\n",
       "    coordinates:         nav_lon nav_lat time_centered\n",
       "    interval_operation:  40 s\n",
       "    interval_write:      1 h\n",
       "    long_name:           ocean surface current along i-axis\n",
       "    online_operation:    average\n",
       "    units:               m/s"
      ]
     },
     "execution_count": 10,
     "metadata": {},
     "output_type": "execute_result"
    }
   ],
   "source": [
    "u_JAS_box"
   ]
  },
  {
   "cell_type": "code",
   "execution_count": 11,
   "metadata": {},
   "outputs": [
    {
     "name": "stdout",
     "output_type": "stream",
     "text": [
      "[1536 1536 1536 ... 2207 2207 2207]\n"
     ]
    }
   ],
   "source": [
    "where=np.where(np.isnan(u_JAS_box.values)==True)\n",
    "print(where[0])"
   ]
  }
 ],
 "metadata": {
  "kernelspec": {
   "display_name": "Python 2",
   "language": "python",
   "name": "python2"
  },
  "language_info": {
   "codemirror_mode": {
    "name": "ipython",
    "version": 2
   },
   "file_extension": ".py",
   "mimetype": "text/x-python",
   "name": "python",
   "nbconvert_exporter": "python",
   "pygments_lexer": "ipython2",
   "version": "2.7.16"
  }
 },
 "nbformat": 4,
 "nbformat_minor": 2
}
